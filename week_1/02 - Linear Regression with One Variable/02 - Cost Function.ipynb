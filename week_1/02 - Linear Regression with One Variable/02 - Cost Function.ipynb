{
 "cells": [
  {
   "cell_type": "markdown",
   "metadata": {},
   "source": [
    "## Cost Function"
   ]
  },
  {
   "cell_type": "markdown",
   "metadata": {},
   "source": [
    "We can measure the accuracy of our hypothesis function by using a <b>cost function</b>. This takes an average difference (actually a fancier version of an average) of all the results of the hypothesis with inputs from x's and the actual output y's.\n",
    "\n",
    "Hypothesis: $h_\\theta(x) = \\theta_0 + \\theta_1x$\n",
    "\n",
    "Parameters: $\\theta_i$'s -> ($\\theta_0$, $\\theta_1$)\n",
    "\n",
    "How to choose $\\theta_i$'s?\n",
    "\n",
    "<b>Examples</b>:\n",
    "\n",
    "![Parameters](src/parameters_exmpl.png)\n",
    "\n",
    "<b>Idea</b>: Chose $\\theta_0$, $\\theta_1$ so that $h_\\theta(x)$ is close to \"y\" for our training examples (x, y)\n",
    "\n",
    "The following image summarizes what the cost function does:\n",
    "![Cost function](src/costfunction.png)"
   ]
  },
  {
   "cell_type": "markdown",
   "metadata": {},
   "source": [
    "\n",
    "The formula for cost function is:\n",
    "$$J(\\theta_0, \\theta_1) = \\frac{1}{2m}\\sum_{i=1}^m(h_\\theta(x^{(i)})−y^{(i)})^2$$\n",
    "\n",
    "where $h_\\theta(x^{(i)})$ is $\\theta_0 + \\theta_1x^{(i)}$\n",
    "\n",
    "To break it apart, it is $\\frac{1}{2} x¯$ where $x¯$ is the mean of the squares of $h_\\theta (x^{(i)}) - y^{(i)}$, or the difference between the predicted value and the actual value.\n",
    "\n",
    "This function is otherwise called the \"Squared error function\", or \"Mean squared error\". The mean is halved $(\\frac{1}{2})$ as a convenience for the computation of the gradient descent, as the derivative term of the square function will cancel out the $\\frac{1}{2}$ term. "
   ]
  },
  {
   "cell_type": "markdown",
   "metadata": {},
   "source": [
    "### Quiz\n",
    "\n",
    "Consider the plot below of $h_\\theta(x) = \\theta_0 + \\theta_1x$. What are $\\theta_0$ and $\\theta_1$?\n",
    "\n",
    "![Hypothesis quiz](src/hypothesis_quiz.jpg)\n",
    "\n",
    "- [ ] $\\theta_0$ = 0, $\\theta_1$ = 1\n",
    "- [x] $\\theta_0$ = 0.5, $\\theta_1$ = 1\n",
    "- [ ] $\\theta_0$ = 1, $\\theta_1$ = 0.5\n",
    "- [ ] $\\theta_0$ = 1, $\\theta_1$ = 1"
   ]
  },
  {
   "cell_type": "code",
   "execution_count": null,
   "metadata": {},
   "outputs": [],
   "source": []
  }
 ],
 "metadata": {
  "kernelspec": {
   "display_name": "Octave",
   "language": "octave",
   "name": "octave"
  },
  "language_info": {
   "file_extension": ".m",
   "help_links": [
    {
     "text": "GNU Octave",
     "url": "https://www.gnu.org/software/octave/support.html"
    },
    {
     "text": "Octave Kernel",
     "url": "https://github.com/Calysto/octave_kernel"
    },
    {
     "text": "MetaKernel Magics",
     "url": "https://metakernel.readthedocs.io/en/latest/source/README.html"
    }
   ],
   "mimetype": "text/x-octave",
   "name": "octave",
   "version": "6.2.0"
  }
 },
 "nbformat": 4,
 "nbformat_minor": 2
}
