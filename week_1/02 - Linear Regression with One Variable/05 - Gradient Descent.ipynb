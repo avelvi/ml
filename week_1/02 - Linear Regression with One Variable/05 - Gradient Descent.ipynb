{
 "cells": [
  {
   "cell_type": "markdown",
   "metadata": {},
   "source": [
    "## Gradient Descent"
   ]
  },
  {
   "cell_type": "markdown",
   "metadata": {},
   "source": [
    "So we have our hypothesis function and we have a way of measuring how well it fits into the data. Now we need to estimate the parameters in the hypothesis function. That's where gradient descent comes in.\n",
    "\n",
    "Imagine that we graph our hypothesis function based on its fields $\\theta_0$ and $\\theta_1$ (actually we are graphing the cost function as a function of the parameter estimates). We are not graphing x and y itself, but the parameter range of our hypothesis function and the cost resulting from selecting a particular set of parameters.\n",
    "\n",
    "We put $\\theta_0$ on the \"x\" axis and $\\theta_1$ on the \"y\" axis, with the cost function on the vertical \"z\" axis. The points on our graph will be the result of the cost function using our hypothesis with those specific theta parameters. The graph below depicts such a setup.\n",
    "\n",
    "![Gradient Descent 1](src/gd_1.png)"
   ]
  },
  {
   "cell_type": "markdown",
   "metadata": {},
   "source": [
    "We will know that we have succeeded when our cost function is at the very bottom of the pits in our graph, i.e. when its value is the minimum. The red arrows show the minimum points in the graph.\n",
    "\n",
    "The way we do this is by taking the derivative (the tangential line to a function) of our cost function. The slope of the tangent is the derivative at that point and it will give us a direction to move towards. We make steps down the cost function in the direction with the steepest descent. The size of each step is determined by the parameter α, which is called the learning rate.\n",
    "\n",
    "For example, the distance between each 'star' in the graph above represents a step determined by our parameter α. A smaller α would result in a smaller step and a larger α results in a larger step. The direction in which the step is taken is determined by the partial derivative of $J(\\theta_0,\\theta_1)$. Depending on where one starts on the graph, one could end up at different points. The image above shows us two different starting points that end up in two different places."
   ]
  },
  {
   "cell_type": "markdown",
   "metadata": {},
   "source": [
    "The gradient descent algorithm is:\n",
    "\n",
    "repeat until convergence:\n",
    "\n",
    "$$\\theta_j := \\theta_j - \\alpha \\frac{\\delta}{\\delta\\theta_j}J(\\theta_0, \\theta_1)$$\n",
    "\n",
    "where\n",
    "\n",
    "j=0,1 represents the feature index number."
   ]
  },
  {
   "cell_type": "markdown",
   "metadata": {},
   "source": [
    "At each iteration j, one should simultaneously update the parameters $\\theta_1$, $\\theta_2$,...,$\\theta_n$. Updating a specific parameter prior to calculating another one on the $j^{(th)}$ iteration would yield to a wrong implementation.\n",
    "\n",
    "![GD Algorithm](src/gd_algorithm.png)"
   ]
  },
  {
   "cell_type": "markdown",
   "metadata": {},
   "source": [
    "### Quiz\n",
    "\n",
    "Suppose $\\theta_0= 1, \\theta_1= 2$, and we simultaneously update $\\theta_0$ and $\\theta_1$ using the rule: $\\theta_j := \\theta_j + \\sqrt{\\theta_0 \\theta_1}$ (for j = 0 and j=1) \n",
    "What are the resulting values of $\\theta_0 $ and $\\theta_1$?\n",
    "\n",
    "\n",
    "- [ ] $\\theta_0 = 1, \\theta_1 =2$\n",
    "- [x] $\\theta_0 = 1+\\sqrt{2}$, $\\theta_1 =2 + \\sqrt{2}$\n",
    "- [ ] $\\theta_0 = 2 + \\sqrt{2}$, $\\theta_1 =1 + \\sqrt{2}$\n",
    "- [ ] $\\theta_0 = 1+\\sqrt{2}$, $\\theta_1 =2 + \\sqrt{(1 + \\sqrt{2})\\cdot 2}$"
   ]
  },
  {
   "cell_type": "code",
   "execution_count": null,
   "metadata": {},
   "outputs": [],
   "source": []
  }
 ],
 "metadata": {
  "kernelspec": {
   "display_name": "Octave",
   "language": "octave",
   "name": "octave"
  },
  "language_info": {
   "file_extension": ".m",
   "help_links": [
    {
     "text": "GNU Octave",
     "url": "https://www.gnu.org/software/octave/support.html"
    },
    {
     "text": "Octave Kernel",
     "url": "https://github.com/Calysto/octave_kernel"
    },
    {
     "text": "MetaKernel Magics",
     "url": "https://github.com/calysto/metakernel/blob/master/metakernel/magics/README.md"
    }
   ],
   "mimetype": "text/x-octave",
   "name": "octave",
   "version": "3.8.0"
  }
 },
 "nbformat": 4,
 "nbformat_minor": 2
}
