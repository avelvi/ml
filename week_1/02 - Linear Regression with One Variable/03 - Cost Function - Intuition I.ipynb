{
 "cells": [
  {
   "cell_type": "markdown",
   "metadata": {},
   "source": [
    "## Cost Function - Intuition I"
   ]
  },
  {
   "cell_type": "markdown",
   "metadata": {},
   "source": [
    "If we try to think of it in visual terms, our training data set is scattered on the x-y plane. We are trying to make a straight line (defined by $h_\\theta(x))$ which passes through these scattered data points.\n",
    "\n",
    "![Cost Function description](src/cfi_desc.png)"
   ]
  },
  {
   "cell_type": "markdown",
   "metadata": {},
   "source": [
    "Our objective is to get the best possible line. The best possible line will be such so that the average squared vertical distances of the scattered points from the line will be the least. Ideally, the line should pass through all the points of our training data set. In such a case, the value of $J(\\theta_0, \\theta_1)$ will be 0. The following example shows the ideal situation where we have a cost function of 0.\n",
    "\n",
    "![Cost Function Example 1](src/cfi_examples_1.png)"
   ]
  },
  {
   "cell_type": "markdown",
   "metadata": {},
   "source": [
    "When $\\theta_1 = 1$, we get a slope of 1 which goes through every single data point in our model. \n",
    "Conversely, when $\\theta_1 = 0.5$, we see the vertical distance from our fit to the data points increase.\n",
    "This increases our cost function to 0.58:\n",
    "\n",
    "![Cost Function Example 2](src/cfi_examples_2.png)"
   ]
  },
  {
   "cell_type": "markdown",
   "metadata": {},
   "source": [
    "Plotting several other points yields to the following graph:\n",
    "\n",
    "![Cost Function Example 3](src/cfi_examples_3.png)\n",
    "\n",
    "Thus as a goal, we should try to minimize the cost function. \n",
    "\n",
    "In this case, $\\theta_1 = 1$ is our global minimum."
   ]
  },
  {
   "cell_type": "markdown",
   "metadata": {},
   "source": [
    "#### Quiz:\n",
    "\n",
    "Suppose we have a training set with m=3 examples, plotted below. Our hypothesis representation is $h_\\theta(x) = \\theta_1x$, with parameter $\\theta_1$. The ccost function $J(\\theta_1)$ is\n",
    "$$J(\\theta_1) = \\frac{1}{2m}\\sum_{i=1}^m(h_\\theta(x^{(i)})−y^{(i)})^2$$\n",
    "\n",
    "What is $J(0)$?\n",
    "![Cost Function Quiz](src/quiz_cf_j0.jpg)\n",
    "\n",
    "- [ ] 0\n",
    "- [ ] 1/6\n",
    "- [ ] 1\n",
    "- [x] 14/6"
   ]
  },
  {
   "cell_type": "markdown",
   "metadata": {},
   "source": [
    "#### Answer:\n",
    "$$J(\\theta_1) = \\frac{1}{2*3} * (((0 * 1)^2 - 1^2) + ((0 * 2)^2 - 2^2) + ((0 * 3)^2 - 3^2))$$\n",
    "$$J(\\theta_1) = \\frac{1}{6} * (1 + 4 + 9)$$\n",
    "$$J(\\theta_1) = \\frac{1}{6} * 14$$"
   ]
  },
  {
   "cell_type": "code",
   "execution_count": null,
   "metadata": {},
   "outputs": [],
   "source": []
  }
 ],
 "metadata": {
  "kernelspec": {
   "display_name": "Octave",
   "language": "octave",
   "name": "octave"
  },
  "language_info": {
   "file_extension": ".m",
   "help_links": [
    {
     "text": "GNU Octave",
     "url": "https://www.gnu.org/software/octave/support.html"
    },
    {
     "text": "Octave Kernel",
     "url": "https://github.com/Calysto/octave_kernel"
    },
    {
     "text": "MetaKernel Magics",
     "url": "https://metakernel.readthedocs.io/en/latest/source/README.html"
    }
   ],
   "mimetype": "text/x-octave",
   "name": "octave",
   "version": "6.2.0"
  }
 },
 "nbformat": 4,
 "nbformat_minor": 2
}
