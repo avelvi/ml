{
 "cells": [
  {
   "cell_type": "markdown",
   "metadata": {},
   "source": [
    "## Model Representation"
   ]
  },
  {
   "cell_type": "markdown",
   "metadata": {},
   "source": [
    "To establish notation for future use, we'll use $x^{(i)}$ to denote the \"input\" variables (living area in this example), also called input features, and $y^{(i)}$ to denote the \"output\" or target variable that we are trying to predict (price). A pair $(x^{(i)}, y^{(i)})$ is called a <b>training example</b>, and the dataset that we'll be using to learn—a list of m training examples $(x^{(i)}, y^{(i)})$; i=1,..., <i>m</i>—is called a training set. Note that the superscript \"(i)\" in the notation is simply an index into the training set, and has nothing to do with exponentiation. We will also use X to denote the space of input values, and Y to denote the space of output values. In this example, X = Y = ℝ."
   ]
  },
  {
   "cell_type": "markdown",
   "metadata": {},
   "source": [
    "To describe the supervised learning problem slightly more formally, our goal is, given a training set, to learn a function h : X → Y so that h(x) is a \"good\" predictor for the corresponding value of y. For historical reasons, this function <b>h</b> is called a <b>hypothesis</b>, and can be represented as: $$h_\\theta(x) = \\theta_0 + \\theta_1x$$\n",
    "\n",
    "\n",
    "Seen pictorially, the process is therefore like this:\n",
    "\n",
    "![Hypothesis](src/hypothesis_desc.png)\n",
    "\n",
    "When the target variable that we're trying to predict is continuous, such as in our housing example, we call the learning problem a regression problem. When y can take on only a small number of discrete values (such as if, given the living area, we wanted to predict if a dwelling is a house or an apartment, say), we call it a classification problem."
   ]
  },
  {
   "cell_type": "markdown",
   "metadata": {},
   "source": [
    "### Quiz\n",
    "\n",
    "Consider the training set shown below. $(x^{(i)}, y^{(i)})$ is the $i^{th}$ training example.\n",
    "\n",
    "What is $y^{(3)}$?\n",
    "\n",
    "| Size in feet$^2$ (x)     | Price ($) in 1000's (y) |\n",
    "|--------------------------|-------------------------|\n",
    "| 2104 | 460 |\n",
    "| 1416 | 232 |\n",
    "| 1534 | 315 |\n",
    "| 852 | 178 |\n",
    "| ... | ... |\n",
    "\n",
    "- [ ] 1416\n",
    "- [ ] 1534\n",
    "- [x] 315"
   ]
  },
  {
   "cell_type": "code",
   "execution_count": null,
   "metadata": {},
   "outputs": [],
   "source": []
  }
 ],
 "metadata": {
  "kernelspec": {
   "display_name": "Octave",
   "language": "octave",
   "name": "octave"
  },
  "language_info": {
   "file_extension": ".m",
   "help_links": [
    {
     "text": "GNU Octave",
     "url": "https://www.gnu.org/software/octave/support.html"
    },
    {
     "text": "Octave Kernel",
     "url": "https://github.com/Calysto/octave_kernel"
    },
    {
     "text": "MetaKernel Magics",
     "url": "https://github.com/calysto/metakernel/blob/master/metakernel/magics/README.md"
    }
   ],
   "mimetype": "text/x-octave",
   "name": "octave",
   "version": "3.8.0"
  }
 },
 "nbformat": 4,
 "nbformat_minor": 2
}
