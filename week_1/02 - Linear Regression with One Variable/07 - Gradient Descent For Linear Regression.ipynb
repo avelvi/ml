{
 "cells": [
  {
   "cell_type": "markdown",
   "metadata": {},
   "source": [
    "## Gradient Descent For Linear Regression"
   ]
  },
  {
   "cell_type": "markdown",
   "metadata": {},
   "source": [
    "![gda_lr_1](src/gda_lr_1.png)\n",
    "\n",
    "\n",
    "When specifically applied to the case of linear regression, a new form of the gradient descent equation can be derived. We can substitute our actual cost function and our actual hypothesis function and modify the equation to \n",
    "\n",
    "repeat until convergence: {\n",
    "\n",
    "$$\\theta_0 := \\theta_0 - \\alpha\\frac{1}{m}\\sum_{i=1}^m(h_\\theta(x^{(i)})−y^{(i)})$$\n",
    "\n",
    "$$\\theta_1 := \\theta_1 - \\alpha\\frac{1}{m}\\sum_{i=1}^m((h_\\theta(x^{(i)})−y^{(i)})x_i)$$\n",
    "\n",
    "}\n",
    "\n",
    "where $m$ is the size of the training set, $\\theta_0$ a constant that will be changing simultaneously with $\\theta_1$ and $x_{i}$, $y_{i}$ are values of the given training set (data)."
   ]
  },
  {
   "cell_type": "markdown",
   "metadata": {},
   "source": [
    "Note that we have separated out the two cases for $\\theta_j$ into separate equations for $\\theta_0$ and $\\theta_1$; and that for $\\theta_1$ we are multiplying $x_{i}$ at the end due to the derivative. The following is a derivation of $\\frac{d}{d\\theta_j}J(θ)$ for a single example:\n",
    "\n",
    "![gda_lr_2](src/gda_lr_2.png)\n",
    "\n",
    "The point of all this is that if we start with a guess for our hypothesis and then repeatedly apply these gradient descent equations, our hypothesis will become more and more accurate."
   ]
  },
  {
   "cell_type": "markdown",
   "metadata": {},
   "source": [
    "So, this is simply gradient descent on the original cost function $J$. This method looks at every example in the entire training set on every step, and is called <b>batch gradient descent</b>. Note that, while gradient descent can be susceptible to local minima in general, the optimization problem we have posed here for linear regression has only one global, and no other local, optima; thus gradient descent always converges (assuming the learning rate α is not too large) to the global minimum. Indeed, $J$ is a convex quadratic function. Here is an example of gradient descent as it is run to minimize a quadratic function:\n",
    "\n",
    "![gda_lr_3](src/gda_lr_3.png)"
   ]
  },
  {
   "cell_type": "markdown",
   "metadata": {},
   "source": [
    "The ellipses shown above are the contours of a quadratic function. Also shown is the trajectory taken by gradient descent, which was initialized at (48,30). The $x$’s in the figure (joined by straight lines) mark the successive values of $\\theta$ that gradient descent went through as it converged to its minimum."
   ]
  },
  {
   "cell_type": "markdown",
   "metadata": {},
   "source": [
    "### Quiz\n",
    "\n",
    "Which of the following are true statements? Select all that apply.\n",
    "\n",
    "\n",
    "- [ ] To make gradient descent converge, we must slowly decrease $\\alpha$ over time.\n",
    "- [ ] Gradient descent is guaranteed to find the global minimum for any function $J(\\theta_0, \\theta_1)$\n",
    "- [x] Gradient descent can converge even if $\\alpha$ is kept fixed. (But $\\alpha$ cannot be too large, or else it may fail to converge.)\n",
    "- [x] For the specific choice of cost function $J(\\theta_0, \\theta_1)$ used in linear regression, there are no local optima (other than the global optimum)."
   ]
  },
  {
   "cell_type": "code",
   "execution_count": null,
   "metadata": {},
   "outputs": [],
   "source": []
  }
 ],
 "metadata": {
  "kernelspec": {
   "display_name": "Octave",
   "language": "octave",
   "name": "octave"
  },
  "language_info": {
   "file_extension": ".m",
   "help_links": [
    {
     "text": "GNU Octave",
     "url": "https://www.gnu.org/software/octave/support.html"
    },
    {
     "text": "Octave Kernel",
     "url": "https://github.com/Calysto/octave_kernel"
    },
    {
     "text": "MetaKernel Magics",
     "url": "https://github.com/calysto/metakernel/blob/master/metakernel/magics/README.md"
    }
   ],
   "mimetype": "text/x-octave",
   "name": "octave",
   "version": "3.8.0"
  }
 },
 "nbformat": 4,
 "nbformat_minor": 2
}
