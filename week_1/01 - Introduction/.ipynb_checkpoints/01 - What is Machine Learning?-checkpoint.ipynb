{
 "cells": [
  {
   "cell_type": "markdown",
   "metadata": {},
   "source": [
    "## What is Machine Learning?"
   ]
  },
  {
   "cell_type": "markdown",
   "metadata": {},
   "source": [
    "\"A computer program is said to learn from experience E with respect to some task T and some performance measure P, if its performance on T, as measured by P, improves with experience E.\""
   ]
  },
  {
   "cell_type": "markdown",
   "metadata": {},
   "source": [
    "### Quiz \n",
    "Suppose your email program watches which emails you do or do not mark as spam, and based on that learns how to better filter spam. What is the task T in this setting?\n",
    "\n",
    "\n",
    "- [x] Classify emails as spam or not spam.\n",
    "\n",
    "\n",
    "- [ ] Watching you label emails as spam or not spam.\n",
    "\n",
    "\n",
    "- [ ] The number (or fraction) of emails correctly classified as spam/not spam.\n",
    "\n",
    "\n",
    "- [ ] None of the above, this is not a machine learning algorithm."
   ]
  },
  {
   "cell_type": "markdown",
   "metadata": {},
   "source": [
    "#### Description:\n",
    "\n",
    "- Classify emails as spam or not spam -> T\n",
    "- Watching you label emails as spam or not spam -> E\n",
    "- The number (or fraction) of emails correctly classified as spam/not spam -> P"
   ]
  },
  {
   "cell_type": "markdown",
   "metadata": {},
   "source": [
    "### Main machine learning algorithms:\n",
    "\n",
    "- Supervised learning\n",
    "- Unsupervised learning"
   ]
  },
  {
   "cell_type": "markdown",
   "metadata": {},
   "source": [
    "### Other machine learning algorithms:\n",
    "\n",
    "- Reinforcement learning\n",
    "- Recommender system"
   ]
  },
  {
   "cell_type": "code",
   "execution_count": null,
   "metadata": {},
   "outputs": [],
   "source": []
  }
 ],
 "metadata": {
  "kernelspec": {
   "display_name": "Octave",
   "language": "octave",
   "name": "octave"
  }
 },
 "nbformat": 4,
 "nbformat_minor": 2
}
