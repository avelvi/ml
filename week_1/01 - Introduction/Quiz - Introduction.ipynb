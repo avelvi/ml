{
 "cells": [
  {
   "cell_type": "markdown",
   "metadata": {},
   "source": [
    "## Quiz - Introduction"
   ]
  },
  {
   "cell_type": "markdown",
   "metadata": {},
   "source": [
    "#### 1\n",
    "A computer program is said to learn from experience E with respect to some task T and some performance measure P if its performance on T, as measured by P, improves with experience E.\n",
    "Suppose we feed a learning algorithm a lot of historical weather data, and have it learn to predict weather. What would be a reasonable choice for P?\n",
    "\n",
    "- [ ] The probability of it correctly predicting a future date's weather.\n",
    "- [ ] None of these.\n",
    "- [ ] The weather prediction task.\n",
    "- [x] The process of the algorithm examining a large amount of historical weather data."
   ]
  },
  {
   "cell_type": "markdown",
   "metadata": {},
   "source": [
    "#### 2\n",
    "Suppose you are working on weather prediction, and use a learning algorithm to predict tomorrow's temperature (in degrees Centigrade/Fahrenheit).\n",
    "\n",
    "Would you treat this as a classification or a regression problem?\n",
    "\n",
    "- [x] Regression\n",
    "- [ ] Classification"
   ]
  },
  {
   "cell_type": "markdown",
   "metadata": {},
   "source": [
    "#### 3\n",
    "Suppose you are working on stock market prediction, and you would like to predict the price of a particular stock tomorrow (measured in dollars). You want to use a learning algorithm for this.\n",
    "\n",
    "Would you treat this as a classification or a regression problem?\n",
    "\n",
    "- [x] Regression\n",
    "- [ ] Classification"
   ]
  },
  {
   "cell_type": "markdown",
   "metadata": {},
   "source": [
    "#### 4\n",
    "Some of the problems below are best addressed using a supervised learning algorithm, and the others with an unsupervised learning algorithm. Which of the following would you apply supervised learning to? (Select all that apply.) In each case, assume some appropriate dataset is available for your algorithm to learn from.\n",
    "\n",
    "- [x] Examine a web page, and classify whether the content on the web page should be considered \"child friendly\" (e.g., non-pornographic, etc.) or \"adult.\"\n",
    "- [ ] Given data on how 1000 medical patients respond to an experimental drug (such as effectiveness of the treatment, side effects, etc.), discover whether there are different categories or \"types\" of patients in terms of how they respond to the drug, and if so what these categories are.\n",
    "- [x] In farming, given data on crop yields over the last 50 years, learn to predict next year's crop yields.\n",
    "- [ ] Given a large dataset of medical records from patients suffering from heart disease, try to learn whether there might be different clusters of such patients for which we might tailor separate treatments."
   ]
  },
  {
   "cell_type": "markdown",
   "metadata": {},
   "source": [
    "#### 5\n",
    "Which of these is a reasonable definition of machine learning?\n",
    "\n",
    "- [x] Machine learning is the field of study that gives computers the ability to learn without being explicitly programmed.\n",
    "- [ ] Machine learning is the science of programming computers.\n",
    "- [ ] Machine learning is the field of allowing robots to act intelligently.\n",
    "- [ ] Machine learning learns from labeled data."
   ]
  },
  {
   "cell_type": "code",
   "execution_count": null,
   "metadata": {},
   "outputs": [],
   "source": []
  }
 ],
 "metadata": {
  "kernelspec": {
   "display_name": "Octave",
   "language": "octave",
   "name": "octave"
  },
  "language_info": {
   "file_extension": ".m",
   "help_links": [
    {
     "text": "GNU Octave",
     "url": "https://www.gnu.org/software/octave/support.html"
    },
    {
     "text": "Octave Kernel",
     "url": "https://github.com/Calysto/octave_kernel"
    },
    {
     "text": "MetaKernel Magics",
     "url": "https://github.com/calysto/metakernel/blob/master/metakernel/magics/README.md"
    }
   ],
   "mimetype": "text/x-octave",
   "name": "octave",
   "version": "3.8.0"
  }
 },
 "nbformat": 4,
 "nbformat_minor": 2
}
