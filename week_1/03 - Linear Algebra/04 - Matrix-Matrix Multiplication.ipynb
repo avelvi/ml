{
 "cells": [
  {
   "cell_type": "markdown",
   "id": "20bb8384",
   "metadata": {},
   "source": [
    "## Matrix-Matrix Multiplication"
   ]
  },
  {
   "cell_type": "markdown",
   "id": "60645e35",
   "metadata": {},
   "source": [
    "We multiply two matrices by breaking it into several vector multiplications and concatenating the result."
   ]
  },
  {
   "cell_type": "markdown",
   "id": "29a4ac8b",
   "metadata": {},
   "source": [
    "<code>[a b;c d;e f]∗[w x;y z] = [a∗w + b∗y;a∗x + b∗z;c∗w + d∗y;c∗x + d∗z;e∗w + f∗y;e∗x + f∗z]</code>"
   ]
  },
  {
   "cell_type": "markdown",
   "id": "c9e22056",
   "metadata": {},
   "source": [
    "An <code>m x n</code> <b>matrix</b> multiplied by an <code>n x o</code> <b>matrix</b> results in an <code>m x o</code> <b>matrix</b>. \n",
    "\n",
    "In the above example, a <code>3 x 2</code> <b>matrix</b> times a <code>2 x 2</code> <b>matrix</b> resulted in a <code>3 x 2</code> <b>matrix</b>.\n",
    "\n",
    "To multiply two matrices, the number of <b>columns</b> of the first matrix must equal the number of <b>rows</b> of the second matrix.\n",
    "\n",
    "For example:"
   ]
  },
  {
   "cell_type": "code",
   "execution_count": 1,
   "id": "0c571df5",
   "metadata": {},
   "outputs": [
    {
     "name": "stdout",
     "output_type": "stream",
     "text": [
      "A =\r\n",
      "\r\n",
      "   1   2\r\n",
      "   3   4\r\n",
      "   5   6\r\n",
      "\r\n"
     ]
    }
   ],
   "source": [
    "% Initialize a 3 by 2 matrix \n",
    "A = [1, 2; 3, 4;5, 6]"
   ]
  },
  {
   "cell_type": "code",
   "execution_count": 2,
   "id": "e465eb76",
   "metadata": {},
   "outputs": [
    {
     "name": "stdout",
     "output_type": "stream",
     "text": [
      "B =\r\n",
      "\r\n",
      "   1\r\n",
      "   2\r\n",
      "\r\n"
     ]
    }
   ],
   "source": [
    "% Initialize a 2 by 1 matrix \n",
    "B = [1; 2] "
   ]
  },
  {
   "cell_type": "code",
   "execution_count": 3,
   "id": "791258be",
   "metadata": {},
   "outputs": [
    {
     "name": "stdout",
     "output_type": "stream",
     "text": [
      "mult_AB =\r\n",
      "\r\n",
      "    5\r\n",
      "   11\r\n",
      "   17\r\n",
      "\r\n"
     ]
    }
   ],
   "source": [
    "% We expect a resulting matrix of (3 by 2)*(2 by 1) = (3 by 1) \n",
    "mult_AB = A*B"
   ]
  },
  {
   "cell_type": "code",
   "execution_count": null,
   "id": "de3ab636",
   "metadata": {},
   "outputs": [],
   "source": []
  }
 ],
 "metadata": {
  "kernelspec": {
   "display_name": "Octave",
   "language": "octave",
   "name": "octave"
  },
  "language_info": {
   "file_extension": ".m",
   "help_links": [
    {
     "text": "GNU Octave",
     "url": "https://www.gnu.org/software/octave/support.html"
    },
    {
     "text": "Octave Kernel",
     "url": "https://github.com/Calysto/octave_kernel"
    },
    {
     "text": "MetaKernel Magics",
     "url": "https://metakernel.readthedocs.io/en/latest/source/README.html"
    }
   ],
   "mimetype": "text/x-octave",
   "name": "octave",
   "version": "6.2.0"
  }
 },
 "nbformat": 4,
 "nbformat_minor": 5
}
