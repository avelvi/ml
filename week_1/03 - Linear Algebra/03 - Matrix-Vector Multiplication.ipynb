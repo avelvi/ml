{
 "cells": [
  {
   "cell_type": "markdown",
   "id": "ea17bc17",
   "metadata": {},
   "source": [
    "## Matrix-Vector Multiplication"
   ]
  },
  {
   "cell_type": "markdown",
   "id": "a189b6b0",
   "metadata": {},
   "source": [
    "We map the column of the vector onto each row of the matrix, multiplying each element and summing the result."
   ]
  },
  {
   "cell_type": "markdown",
   "id": "42ffe912",
   "metadata": {},
   "source": [
    "<code>[a b;c d;e f]∗[x;y] = [a∗x + b∗y;c∗x + d∗y;e∗x + f∗y]</code>"
   ]
  },
  {
   "cell_type": "markdown",
   "id": "ce470704",
   "metadata": {},
   "source": [
    "The result is a <b>vector</b>. The number of <b>columns</b> of the matrix must equal the number of <b>rows</b> of the vector.\n",
    "\n",
    "An <code>m x n</code> <b>matrix</b> multiplied by an <code>n x 1</code> <b>vector</b> results in an <code>m x 1</code> <b>vector</b>.\n",
    "\n",
    "Below is an example of a matrix-vector multiplication. Make sure you understand how the multiplication works. Feel free to try different matrix-vector multiplications. "
   ]
  },
  {
   "cell_type": "code",
   "execution_count": 1,
   "id": "67d880c9",
   "metadata": {},
   "outputs": [
    {
     "name": "stdout",
     "output_type": "stream",
     "text": [
      "A =\r\n",
      "\r\n",
      "   1   2   3\r\n",
      "   4   5   6\r\n",
      "   7   8   9\r\n",
      "\r\n"
     ]
    }
   ],
   "source": [
    "% Initialize matrix A \n",
    "A = [1, 2, 3; 4, 5, 6;7, 8, 9] "
   ]
  },
  {
   "cell_type": "code",
   "execution_count": 2,
   "id": "07b40aa8",
   "metadata": {},
   "outputs": [
    {
     "name": "stdout",
     "output_type": "stream",
     "text": [
      "v =\r\n",
      "\r\n",
      "   1\r\n",
      "   1\r\n",
      "   1\r\n",
      "\r\n"
     ]
    }
   ],
   "source": [
    "% Initialize vector v \n",
    "v = [1; 1; 1] "
   ]
  },
  {
   "cell_type": "code",
   "execution_count": 3,
   "id": "0f2d9c0e",
   "metadata": {},
   "outputs": [
    {
     "name": "stdout",
     "output_type": "stream",
     "text": [
      "Av =\r\n",
      "\r\n",
      "    6\r\n",
      "   15\r\n",
      "   24\r\n",
      "\r\n"
     ]
    }
   ],
   "source": [
    "% Multiply A * v\n",
    "Av = A * v"
   ]
  },
  {
   "cell_type": "code",
   "execution_count": null,
   "id": "3d1a05d7",
   "metadata": {},
   "outputs": [],
   "source": []
  }
 ],
 "metadata": {
  "kernelspec": {
   "display_name": "Octave",
   "language": "octave",
   "name": "octave"
  },
  "language_info": {
   "file_extension": ".m",
   "help_links": [
    {
     "text": "GNU Octave",
     "url": "https://www.gnu.org/software/octave/support.html"
    },
    {
     "text": "Octave Kernel",
     "url": "https://github.com/Calysto/octave_kernel"
    },
    {
     "text": "MetaKernel Magics",
     "url": "https://metakernel.readthedocs.io/en/latest/source/README.html"
    }
   ],
   "mimetype": "text/x-octave",
   "name": "octave",
   "version": "6.2.0"
  }
 },
 "nbformat": 4,
 "nbformat_minor": 5
}
