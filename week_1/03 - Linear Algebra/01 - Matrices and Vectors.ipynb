{
 "cells": [
  {
   "cell_type": "markdown",
   "id": "7a7ceb0f",
   "metadata": {},
   "source": [
    "## Matrices and Vectors"
   ]
  },
  {
   "cell_type": "markdown",
   "id": "da44b52c",
   "metadata": {},
   "source": [
    "Matrices are 2-dimensional arrays:\n",
    "\n",
    "<code>[a b c  d e f  g h i  k l m]</code>"
   ]
  },
  {
   "cell_type": "markdown",
   "id": "ccc74d9e",
   "metadata": {},
   "source": [
    "The above matrix has four rows and three columns, so it is a 4 x 3 matrix.\n",
    "\n",
    "A vector is a matrix with one column and many rows:\n",
    "\n",
    "<code>[wxyz]</code>\n",
    "\n",
    "So vectors are a subset of matrices. The above vector is a 4 x 1 matrix."
   ]
  },
  {
   "cell_type": "markdown",
   "id": "45f39169",
   "metadata": {},
   "source": [
    "#### Notation and terms:"
   ]
  },
  {
   "cell_type": "markdown",
   "id": "1ff1c318",
   "metadata": {},
   "source": [
    "- $A_i{_j}$  refers to the element in the $i^{th}$ row and $j^{th}$ column of matrix A.\n",
    "- A vector with <code>n</code> rows is referred to as an <code>n</code>-dimensional vector.\n",
    "- $v_i$ refers to the element in the $i^{th}$ row of the vector.\n",
    "- In general, all our vectors and matrices will be 1-indexed. Note that for some programming languages, the arrays are 0-indexed.\n",
    "- Matrices are usually denoted by uppercase names while vectors are lowercase.\n",
    "- <code>Scalar</code> means that an object is a single value, not a vector or matrix.\n",
    "- $\\mathbb{R}$ refers to the set of scalar real numbers.\n",
    "- $\\mathbb{R^n}$ refers to the set of n-dimensional vectors of real numbers."
   ]
  },
  {
   "cell_type": "code",
   "execution_count": 1,
   "id": "aaddeadc",
   "metadata": {},
   "outputs": [
    {
     "name": "stdout",
     "output_type": "stream",
     "text": [
      "A =\r\n",
      "\r\n",
      "    1    2    3\r\n",
      "    4    5    6\r\n",
      "    7    8    9\r\n",
      "   10   11   12\r\n",
      "\r\n"
     ]
    }
   ],
   "source": [
    "% The ; denotes we are going back to a new row.\n",
    "A = [1, 2, 3; 4, 5, 6; 7, 8, 9; 10, 11, 12]"
   ]
  },
  {
   "cell_type": "code",
   "execution_count": 2,
   "id": "e636d7e0",
   "metadata": {},
   "outputs": [
    {
     "name": "stdout",
     "output_type": "stream",
     "text": [
      "v =\r\n",
      "\r\n",
      "   1\r\n",
      "   2\r\n",
      "   3\r\n",
      "\r\n"
     ]
    }
   ],
   "source": [
    "% Initialize a vector \n",
    "v = [1;2;3] "
   ]
  },
  {
   "cell_type": "code",
   "execution_count": 3,
   "id": "2e87f385",
   "metadata": {},
   "outputs": [
    {
     "name": "stdout",
     "output_type": "stream",
     "text": [
      "m = 4\r\n",
      "n = 3\r\n"
     ]
    }
   ],
   "source": [
    "% Get the dimension of the matrix A where m = rows and n = columns\n",
    "[m,n] = size(A)"
   ]
  },
  {
   "cell_type": "code",
   "execution_count": 4,
   "id": "6bfb20f5",
   "metadata": {},
   "outputs": [
    {
     "name": "stdout",
     "output_type": "stream",
     "text": [
      "dim_A =\r\n",
      "\r\n",
      "   4   3\r\n",
      "\r\n"
     ]
    }
   ],
   "source": [
    "% You could also store it this way\n",
    "dim_A = size(A)"
   ]
  },
  {
   "cell_type": "code",
   "execution_count": 5,
   "id": "bd805ef1",
   "metadata": {},
   "outputs": [
    {
     "name": "stdout",
     "output_type": "stream",
     "text": [
      "dim_v =\r\n",
      "\r\n",
      "   3   1\r\n",
      "\r\n"
     ]
    }
   ],
   "source": [
    "% Get the dimension of the vector v \n",
    "dim_v = size(v)"
   ]
  },
  {
   "cell_type": "code",
   "execution_count": 6,
   "id": "4bb743bd",
   "metadata": {},
   "outputs": [
    {
     "name": "stdout",
     "output_type": "stream",
     "text": [
      "A_23 = 6\r\n"
     ]
    }
   ],
   "source": [
    "% Now let's index into the 2nd row 3rd column of matrix A\n",
    "A_23 = A(2,3)"
   ]
  },
  {
   "cell_type": "code",
   "execution_count": null,
   "id": "ba51158a",
   "metadata": {},
   "outputs": [],
   "source": []
  }
 ],
 "metadata": {
  "kernelspec": {
   "display_name": "Octave",
   "language": "octave",
   "name": "octave"
  },
  "language_info": {
   "file_extension": ".m",
   "help_links": [
    {
     "text": "GNU Octave",
     "url": "https://www.gnu.org/software/octave/support.html"
    },
    {
     "text": "Octave Kernel",
     "url": "https://github.com/Calysto/octave_kernel"
    },
    {
     "text": "MetaKernel Magics",
     "url": "https://metakernel.readthedocs.io/en/latest/source/README.html"
    }
   ],
   "mimetype": "text/x-octave",
   "name": "octave",
   "version": "6.2.0"
  }
 },
 "nbformat": 4,
 "nbformat_minor": 5
}
