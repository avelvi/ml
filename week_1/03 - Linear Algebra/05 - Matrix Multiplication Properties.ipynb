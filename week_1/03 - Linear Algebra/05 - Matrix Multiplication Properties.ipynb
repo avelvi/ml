{
 "cells": [
  {
   "cell_type": "markdown",
   "id": "f97e9e6c",
   "metadata": {},
   "source": [
    "## Matrix Multiplication Properties"
   ]
  },
  {
   "cell_type": "markdown",
   "id": "153746a3",
   "metadata": {},
   "source": [
    "- Matrices are not commutative: <code>A∗B</code> $\\neq$ <code>B∗A</code> \n",
    "- Matrices are associative: <code>(A∗B)∗C</code> = <code>A∗(B∗C)"
   ]
  },
  {
   "cell_type": "markdown",
   "id": "aa770f5c",
   "metadata": {},
   "source": [
    "The <b>identity matrix</b>, when multiplied by any matrix of the same dimensions, results in the original matrix. It's just like multiplying numbers by 1. The identity matrix simply has 1's on the diagonal (upper left to lower right diagonal) and 0's elsewhere."
   ]
  },
  {
   "cell_type": "markdown",
   "id": "5738f1ae",
   "metadata": {},
   "source": [
    "When multiplying the identity matrix after some matrix <code>(A∗I)</code>, the square identity matrix's dimension should match the other matrix's <b>columns</b>. When multiplying the identity matrix before some other matrix <code>(I∗A)</code>, the square identity matrix's dimension should match the other matrix's <b>rows</b>."
   ]
  },
  {
   "cell_type": "code",
   "execution_count": 1,
   "id": "7bc69f07",
   "metadata": {},
   "outputs": [
    {
     "name": "stdout",
     "output_type": "stream",
     "text": [
      "A =\r\n",
      "\r\n",
      "   1   0   0\r\n",
      "   0   1   0\r\n",
      "   0   0   1\r\n",
      "\r\n"
     ]
    }
   ],
   "source": [
    "A = [1 0 0;0 1 0;0 0 1]"
   ]
  },
  {
   "cell_type": "code",
   "execution_count": 2,
   "id": "22bf2b9b",
   "metadata": {},
   "outputs": [
    {
     "name": "stdout",
     "output_type": "stream",
     "text": [
      "A =\n",
      "\n",
      "   1   2\n",
      "   4   5\n",
      "\n",
      "B =\n",
      "\n",
      "   1   1\n",
      "   0   2\n",
      "\n"
     ]
    }
   ],
   "source": [
    "% Initialize random matrices A and B \n",
    "A = [1,2;4,5]\n",
    "B = [1,1;0,2]"
   ]
  },
  {
   "cell_type": "code",
   "execution_count": 3,
   "id": "70061eea",
   "metadata": {},
   "outputs": [
    {
     "name": "stdout",
     "output_type": "stream",
     "text": [
      "I =\r\n",
      "\r\n",
      "Diagonal Matrix\r\n",
      "\r\n",
      "   1   0\r\n",
      "   0   1\r\n",
      "\r\n"
     ]
    }
   ],
   "source": [
    "% Initialize a 2 by 2 identity matrix\n",
    "I = eye(2)"
   ]
  },
  {
   "cell_type": "code",
   "execution_count": 4,
   "id": "adb5b0be",
   "metadata": {},
   "outputs": [],
   "source": [
    "% The above notation is the same as I = [1,0;0,1]"
   ]
  },
  {
   "cell_type": "code",
   "execution_count": 5,
   "id": "fc1b260f",
   "metadata": {},
   "outputs": [
    {
     "name": "stdout",
     "output_type": "stream",
     "text": [
      "IA =\r\n",
      "\r\n",
      "   1   2\r\n",
      "   4   5\r\n",
      "\r\n"
     ]
    }
   ],
   "source": [
    "% What happens when we multiply I*A ? \n",
    "IA = I*A "
   ]
  },
  {
   "cell_type": "code",
   "execution_count": 6,
   "id": "cc730948",
   "metadata": {},
   "outputs": [
    {
     "name": "stdout",
     "output_type": "stream",
     "text": [
      "AI =\r\n",
      "\r\n",
      "   1   2\r\n",
      "   4   5\r\n",
      "\r\n"
     ]
    }
   ],
   "source": [
    "% How about A*I ? \n",
    "AI = A*I "
   ]
  },
  {
   "cell_type": "code",
   "execution_count": 7,
   "id": "24e6e730",
   "metadata": {},
   "outputs": [
    {
     "name": "stdout",
     "output_type": "stream",
     "text": [
      "AB =\r\n",
      "\r\n",
      "    1    5\r\n",
      "    4   14\r\n",
      "\r\n"
     ]
    }
   ],
   "source": [
    "% Compute A*B \n",
    "AB = A*B "
   ]
  },
  {
   "cell_type": "code",
   "execution_count": 8,
   "id": "fddc1ba8",
   "metadata": {},
   "outputs": [
    {
     "name": "stdout",
     "output_type": "stream",
     "text": [
      "BA =\r\n",
      "\r\n",
      "    5    7\r\n",
      "    8   10\r\n",
      "\r\n"
     ]
    }
   ],
   "source": [
    "% Is it equal to B*A? \n",
    "BA = B*A "
   ]
  },
  {
   "cell_type": "code",
   "execution_count": 9,
   "id": "aaad38a9",
   "metadata": {},
   "outputs": [],
   "source": [
    "% Note that IA = AI but AB != BA"
   ]
  },
  {
   "cell_type": "code",
   "execution_count": null,
   "id": "fbabcba6",
   "metadata": {},
   "outputs": [],
   "source": []
  }
 ],
 "metadata": {
  "kernelspec": {
   "display_name": "Octave",
   "language": "octave",
   "name": "octave"
  },
  "language_info": {
   "file_extension": ".m",
   "help_links": [
    {
     "text": "GNU Octave",
     "url": "https://www.gnu.org/software/octave/support.html"
    },
    {
     "text": "Octave Kernel",
     "url": "https://github.com/Calysto/octave_kernel"
    },
    {
     "text": "MetaKernel Magics",
     "url": "https://metakernel.readthedocs.io/en/latest/source/README.html"
    }
   ],
   "mimetype": "text/x-octave",
   "name": "octave",
   "version": "6.2.0"
  }
 },
 "nbformat": 4,
 "nbformat_minor": 5
}
