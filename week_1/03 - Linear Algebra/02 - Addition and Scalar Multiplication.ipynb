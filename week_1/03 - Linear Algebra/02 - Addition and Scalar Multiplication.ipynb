{
 "cells": [
  {
   "cell_type": "markdown",
   "id": "5d9aae0a",
   "metadata": {},
   "source": [
    "## Addition and Scalar Multiplication"
   ]
  },
  {
   "cell_type": "markdown",
   "id": "883c1743",
   "metadata": {},
   "source": [
    "Addition and subtraction are <b>element-wise</b>, so you simply add or subtract each corresponding element:"
   ]
  },
  {
   "cell_type": "markdown",
   "id": "31251a87",
   "metadata": {},
   "source": [
    "<code>[a b; c d] + [w x; y z] = [a+w b+x; c+y d+z]</code>"
   ]
  },
  {
   "cell_type": "markdown",
   "id": "a20e1e6c",
   "metadata": {},
   "source": [
    "Subtracting Matrices: "
   ]
  },
  {
   "cell_type": "markdown",
   "id": "2ec9ea94",
   "metadata": {},
   "source": [
    "<code>[a b; c d] - [w x; y z] = [a-w b-x; c-y d-z]</code>"
   ]
  },
  {
   "cell_type": "markdown",
   "id": "29d20767",
   "metadata": {},
   "source": [
    "To add or subtract two matrices, their dimensions must be the same.\n",
    "\n",
    "In scalar multiplication, we simply multiply every element by the scalar value:"
   ]
  },
  {
   "cell_type": "markdown",
   "id": "39dcad90",
   "metadata": {},
   "source": [
    "<code>[a b; c d] * x = [a*x b*x; c*x d*x]</code>"
   ]
  },
  {
   "cell_type": "markdown",
   "id": "931ed2ee",
   "metadata": {},
   "source": [
    "In scalar division, we simply divide every element by the scalar value:"
   ]
  },
  {
   "cell_type": "markdown",
   "id": "4fe2b064",
   "metadata": {},
   "source": [
    "<code>[a b; c d] / x = [a/x b/x; c/x d/x]</code>"
   ]
  },
  {
   "cell_type": "code",
   "execution_count": 1,
   "id": "a3d5341c",
   "metadata": {},
   "outputs": [
    {
     "name": "stdout",
     "output_type": "stream",
     "text": [
      "A =\n",
      "\n",
      "   1   2   4\n",
      "   5   3   2\n",
      "\n",
      "B =\n",
      "\n",
      "   1   3   4\n",
      "   1   1   1\n",
      "\n"
     ]
    }
   ],
   "source": [
    "% Initialize matrix A and B \n",
    "A = [1, 2, 4; 5, 3, 2]\n",
    "B = [1, 3, 4; 1, 1, 1]"
   ]
  },
  {
   "cell_type": "code",
   "execution_count": 2,
   "id": "3a95778b",
   "metadata": {},
   "outputs": [
    {
     "name": "stdout",
     "output_type": "stream",
     "text": [
      "s = 2\r\n"
     ]
    }
   ],
   "source": [
    "% Initialize constant s \n",
    "s = 2"
   ]
  },
  {
   "cell_type": "code",
   "execution_count": 3,
   "id": "cd92a849",
   "metadata": {},
   "outputs": [
    {
     "name": "stdout",
     "output_type": "stream",
     "text": [
      "add_AB =\r\n",
      "\r\n",
      "   2   5   8\r\n",
      "   6   4   3\r\n",
      "\r\n"
     ]
    }
   ],
   "source": [
    "% See how element-wise addition works\n",
    "add_AB = A + B "
   ]
  },
  {
   "cell_type": "code",
   "execution_count": 4,
   "id": "be77df79",
   "metadata": {},
   "outputs": [
    {
     "name": "stdout",
     "output_type": "stream",
     "text": [
      "sub_AB =\r\n",
      "\r\n",
      "   0  -1   0\r\n",
      "   4   2   1\r\n",
      "\r\n"
     ]
    }
   ],
   "source": [
    "% See how element-wise subtraction works\n",
    "sub_AB = A - B"
   ]
  },
  {
   "cell_type": "code",
   "execution_count": 5,
   "id": "60a9fc17",
   "metadata": {},
   "outputs": [
    {
     "name": "stdout",
     "output_type": "stream",
     "text": [
      "mult_As =\r\n",
      "\r\n",
      "    2    4    8\r\n",
      "   10    6    4\r\n",
      "\r\n"
     ]
    }
   ],
   "source": [
    "% See how scalar multiplication works\n",
    "mult_As = A * s"
   ]
  },
  {
   "cell_type": "code",
   "execution_count": 6,
   "id": "fd5b575b",
   "metadata": {},
   "outputs": [
    {
     "name": "stdout",
     "output_type": "stream",
     "text": [
      "div_As =\r\n",
      "\r\n",
      "   0.5000   1.0000   2.0000\r\n",
      "   2.5000   1.5000   1.0000\r\n",
      "\r\n"
     ]
    }
   ],
   "source": [
    "% Divide A by s\n",
    "div_As = A / s"
   ]
  },
  {
   "cell_type": "code",
   "execution_count": 7,
   "id": "c139743a",
   "metadata": {},
   "outputs": [
    {
     "name": "stdout",
     "output_type": "stream",
     "text": [
      "add_As =\r\n",
      "\r\n",
      "   3   4   6\r\n",
      "   7   5   4\r\n",
      "\r\n"
     ]
    }
   ],
   "source": [
    "% What happens if we have a Matrix + scalar?\n",
    "add_As = A + s"
   ]
  },
  {
   "cell_type": "code",
   "execution_count": null,
   "id": "6f5f812e",
   "metadata": {},
   "outputs": [],
   "source": []
  }
 ],
 "metadata": {
  "kernelspec": {
   "display_name": "Octave",
   "language": "octave",
   "name": "octave"
  },
  "language_info": {
   "file_extension": ".m",
   "help_links": [
    {
     "text": "GNU Octave",
     "url": "https://www.gnu.org/software/octave/support.html"
    },
    {
     "text": "Octave Kernel",
     "url": "https://github.com/Calysto/octave_kernel"
    },
    {
     "text": "MetaKernel Magics",
     "url": "https://metakernel.readthedocs.io/en/latest/source/README.html"
    }
   ],
   "mimetype": "text/x-octave",
   "name": "octave",
   "version": "6.2.0"
  }
 },
 "nbformat": 4,
 "nbformat_minor": 5
}
