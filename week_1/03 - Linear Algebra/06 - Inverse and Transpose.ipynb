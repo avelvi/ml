{
 "cells": [
  {
   "cell_type": "markdown",
   "id": "887516aa",
   "metadata": {},
   "source": [
    "## Inverse and Transpose"
   ]
  },
  {
   "cell_type": "markdown",
   "id": "0a8083a6",
   "metadata": {},
   "source": [
    "The <b>inverse</b> of a matrix A is denoted $A^{-1}$. Multiplying by the inverse results in the identity matrix."
   ]
  },
  {
   "cell_type": "markdown",
   "id": "eee28ce9",
   "metadata": {},
   "source": [
    "A non square matrix does not have an inverse matrix. We can compute inverses of matrices in octave with the <code>pinv(A)</code>function and in Matlab with the <code>inv(A)</code> function. Matrices that don't have an inverse are <b>singular</b> or <b>degenerate</b>."
   ]
  },
  {
   "cell_type": "markdown",
   "id": "67d5263c",
   "metadata": {},
   "source": [
    "The <b>transposition</b> of a matrix is like rotating the matrix 90° in clockwise direction and then reversing it. We can compute transposition of matrices in matlab with the transpose(A) function or A':"
   ]
  },
  {
   "cell_type": "code",
   "execution_count": 1,
   "id": "bcc8315e",
   "metadata": {},
   "outputs": [
    {
     "name": "stdout",
     "output_type": "stream",
     "text": [
      "A =\r\n",
      "\r\n",
      "   1   2\r\n",
      "   3   4\r\n",
      "   5   6\r\n",
      "\r\n"
     ]
    }
   ],
   "source": [
    "A = [1 2;3 4;5 6]"
   ]
  },
  {
   "cell_type": "markdown",
   "id": "6f50f3e5",
   "metadata": {},
   "source": [
    "$A^T$ = "
   ]
  },
  {
   "cell_type": "code",
   "execution_count": 2,
   "id": "514a15d1",
   "metadata": {},
   "outputs": [
    {
     "name": "stdout",
     "output_type": "stream",
     "text": [
      "ans =\r\n",
      "\r\n",
      "   1   3   5\r\n",
      "   2   4   6\r\n",
      "\r\n"
     ]
    }
   ],
   "source": [
    "A'"
   ]
  },
  {
   "cell_type": "code",
   "execution_count": 3,
   "id": "72734069",
   "metadata": {},
   "outputs": [
    {
     "name": "stdout",
     "output_type": "stream",
     "text": [
      "A =\r\n",
      "\r\n",
      "   1   2   0\r\n",
      "   0   5   6\r\n",
      "   7   0   9\r\n",
      "\r\n"
     ]
    }
   ],
   "source": [
    "% Initialize matrix A \n",
    "A = [1,2,0;0,5,6;7,0,9]"
   ]
  },
  {
   "cell_type": "code",
   "execution_count": 4,
   "id": "308d3671",
   "metadata": {},
   "outputs": [
    {
     "name": "stdout",
     "output_type": "stream",
     "text": [
      "A_trans =\r\n",
      "\r\n",
      "   1   0   7\r\n",
      "   2   5   0\r\n",
      "   0   6   9\r\n",
      "\r\n"
     ]
    }
   ],
   "source": [
    "% Transpose A \n",
    "A_trans = A' "
   ]
  },
  {
   "cell_type": "code",
   "execution_count": 5,
   "id": "3ac689e0",
   "metadata": {},
   "outputs": [
    {
     "name": "stdout",
     "output_type": "stream",
     "text": [
      "A_inv =\r\n",
      "\r\n",
      "   0.348837  -0.139535   0.093023\r\n",
      "   0.325581   0.069767  -0.046512\r\n",
      "  -0.271318   0.108527   0.038760\r\n",
      "\r\n"
     ]
    }
   ],
   "source": [
    "% Take the inverse of A \n",
    "A_inv = inv(A)"
   ]
  },
  {
   "cell_type": "code",
   "execution_count": 6,
   "id": "31886240",
   "metadata": {},
   "outputs": [
    {
     "name": "stdout",
     "output_type": "stream",
     "text": [
      "A_invA =\r\n",
      "\r\n",
      "   1.0000e+00  -8.3267e-17   5.5511e-17\r\n",
      "   2.7756e-17   1.0000e+00  -8.3267e-17\r\n",
      "  -3.4694e-17   2.7756e-17   1.0000e+00\r\n",
      "\r\n"
     ]
    }
   ],
   "source": [
    "% What is A^(-1)*A? = I\n",
    "A_invA = inv(A)*A"
   ]
  },
  {
   "cell_type": "code",
   "execution_count": null,
   "id": "bb3ea647",
   "metadata": {},
   "outputs": [],
   "source": []
  }
 ],
 "metadata": {
  "kernelspec": {
   "display_name": "Octave",
   "language": "octave",
   "name": "octave"
  },
  "language_info": {
   "file_extension": ".m",
   "help_links": [
    {
     "text": "GNU Octave",
     "url": "https://www.gnu.org/software/octave/support.html"
    },
    {
     "text": "Octave Kernel",
     "url": "https://github.com/Calysto/octave_kernel"
    },
    {
     "text": "MetaKernel Magics",
     "url": "https://metakernel.readthedocs.io/en/latest/source/README.html"
    }
   ],
   "mimetype": "text/x-octave",
   "name": "octave",
   "version": "6.2.0"
  }
 },
 "nbformat": 4,
 "nbformat_minor": 5
}
