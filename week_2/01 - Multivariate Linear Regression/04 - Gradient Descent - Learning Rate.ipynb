{
 "cells": [
  {
   "cell_type": "markdown",
   "id": "6f60c149",
   "metadata": {},
   "source": [
    "## Gradient Descent - Learning Rate"
   ]
  },
  {
   "cell_type": "markdown",
   "id": "67465dc8",
   "metadata": {},
   "source": [
    "#### Debugging gradient descent. \n",
    "\n",
    "Make a plot with number of iterations on the x-axis. \n",
    "\n",
    "Now plot the cost function, $J(\\theta)$ over the number of iterations of gradient descent.\n",
    "\n",
    "If $J(\\theta)$ ever increases, then you probably need to decrease $\\alpha$."
   ]
  },
  {
   "cell_type": "markdown",
   "id": "37cebeaa",
   "metadata": {},
   "source": [
    "#### Automatic convergence test. \n",
    "\n",
    "Declare convergence if $J(\\theta)$ decreases by less than E in one iteration, where E is some small value such as $10^{−3}$. \n",
    "\n",
    "However in practice it's difficult to choose this threshold value."
   ]
  },
  {
   "cell_type": "markdown",
   "id": "108a7585",
   "metadata": {},
   "source": [
    "![gdlr_1](src/gdlr_1.png)"
   ]
  },
  {
   "cell_type": "markdown",
   "id": "f0e47df1",
   "metadata": {},
   "source": [
    "It has been proven that if learning rate α is sufficiently small, then $J(\\theta)$ will decrease on every iteration."
   ]
  },
  {
   "cell_type": "markdown",
   "id": "ab378327",
   "metadata": {},
   "source": [
    "![gdlr_2](src/gdlr_2.png)"
   ]
  },
  {
   "cell_type": "markdown",
   "id": "e7b2ee59",
   "metadata": {},
   "source": [
    "To summarize:\n",
    "- If $\\alpha$ is too small: slow convergence. \n",
    "- If $\\alpha$ is too large: may not decrease on every iteration and thus may not converge."
   ]
  },
  {
   "cell_type": "code",
   "execution_count": null,
   "id": "0eb9d1bc",
   "metadata": {},
   "outputs": [],
   "source": []
  }
 ],
 "metadata": {
  "kernelspec": {
   "display_name": "Octave",
   "language": "octave",
   "name": "octave"
  },
  "language_info": {
   "file_extension": ".m",
   "help_links": [
    {
     "text": "GNU Octave",
     "url": "https://www.gnu.org/software/octave/support.html"
    },
    {
     "text": "Octave Kernel",
     "url": "https://github.com/Calysto/octave_kernel"
    },
    {
     "text": "MetaKernel Magics",
     "url": "https://metakernel.readthedocs.io/en/latest/source/README.html"
    }
   ],
   "mimetype": "text/x-octave",
   "name": "octave",
   "version": "6.2.0"
  }
 },
 "nbformat": 4,
 "nbformat_minor": 5
}
