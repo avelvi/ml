{
 "cells": [
  {
   "cell_type": "markdown",
   "id": "643cd63a",
   "metadata": {},
   "source": [
    "## Multiple Features"
   ]
  },
  {
   "cell_type": "markdown",
   "id": "4791a6eb",
   "metadata": {},
   "source": [
    "Linear regression with multiple variables is also known as \"multivariate linear regression\".\n",
    "\n",
    "We now introduce notation for equations where we can have any number of input variables."
   ]
  },
  {
   "cell_type": "markdown",
   "id": "e4a8e5af",
   "metadata": {},
   "source": [
    "- $x_j^{(i)}$ = value of feature $j$ in the $i^{th}$ training example\n",
    "- $x^{(i)}$ = the input (features) of the $i^{th}$ training example\n",
    "- $m$ = the number of training examples\n",
    "- $n$ = the number of features"
   ]
  },
  {
   "cell_type": "markdown",
   "id": "9428a40c",
   "metadata": {},
   "source": [
    "The multivariable form of the hypothesis function accommodating these multiple features is as follows:"
   ]
  },
  {
   "cell_type": "markdown",
   "id": "b810ea1a",
   "metadata": {},
   "source": [
    "$h_{\\theta}(x) = [\\theta_0 \\theta_1 ... \\theta_n ]\\left[\\begin{array}\n",
    " {rrr}\n",
    "     x_0\\\\\n",
    "     x_1\\\\ \n",
    "     .\\\\\n",
    "     .\\\\\n",
    "     .\\\\\n",
    "     x_n\n",
    " \\end{array}\\right]\n",
    " = \\theta^{T}x\n",
    "$"
   ]
  },
  {
   "cell_type": "markdown",
   "id": "c380bd20",
   "metadata": {},
   "source": [
    "This is a vectorization of our hypothesis function for one training example"
   ]
  },
  {
   "cell_type": "markdown",
   "id": "375e4a34",
   "metadata": {},
   "source": [
    "\n",
    "Remark: Note that for convenience reasons in this course we assume $x_{0}^{(i)} = 1 \\text{ for } (i\\in { 1,\\dots, m } )$\n",
    "This allows us to do matrix operations with theta and x. Hence making the two vectors $\\theta$ and $x^{(i)}$ match each other element-wise (that is, have the same number of elements: n+1).\n",
    "\n",
    "\n"
   ]
  },
  {
   "cell_type": "code",
   "execution_count": null,
   "id": "f773e195",
   "metadata": {},
   "outputs": [],
   "source": []
  }
 ],
 "metadata": {
  "kernelspec": {
   "display_name": "Octave",
   "language": "octave",
   "name": "octave"
  },
  "language_info": {
   "file_extension": ".m",
   "help_links": [
    {
     "text": "GNU Octave",
     "url": "https://www.gnu.org/software/octave/support.html"
    },
    {
     "text": "Octave Kernel",
     "url": "https://github.com/Calysto/octave_kernel"
    },
    {
     "text": "MetaKernel Magics",
     "url": "https://metakernel.readthedocs.io/en/latest/source/README.html"
    }
   ],
   "mimetype": "text/x-octave",
   "name": "octave",
   "version": "6.2.0"
  }
 },
 "nbformat": 4,
 "nbformat_minor": 5
}
