{
 "cells": [
  {
   "cell_type": "markdown",
   "id": "116a80d9",
   "metadata": {},
   "source": [
    "## Features and Polynomial Regression"
   ]
  },
  {
   "cell_type": "markdown",
   "id": "ff502593",
   "metadata": {},
   "source": [
    "We can improve our features and the form of our hypothesis function in a couple different ways."
   ]
  },
  {
   "cell_type": "markdown",
   "id": "c19bb476",
   "metadata": {},
   "source": [
    "We can <b>combine</b> multiple features into one. For example, we can combine $x_1$ and $x_2$ into a new feature $x_3$ by taking $x_1 * x_2$."
   ]
  },
  {
   "cell_type": "markdown",
   "id": "1244f0e4",
   "metadata": {},
   "source": [
    "#### Polynomial Regression"
   ]
  },
  {
   "cell_type": "markdown",
   "id": "bfa872f2",
   "metadata": {},
   "source": [
    "Our hypothesis function need not be linear (a straight line) if that does not fit the data well.\n",
    "\n",
    "We can <b>change the behavior or curve</b> of our hypothesis function by making it a quadratic, cubic or square root function (or any other form)."
   ]
  },
  {
   "cell_type": "markdown",
   "id": "65cde090",
   "metadata": {},
   "source": [
    "For example, if our hypothesis function is $h_\\theta(x) = \\theta_0 + \\theta_1 x_1$ then we can create additional features based on $x_1$, to get the quadratic function \n",
    "\n",
    "$h_\\theta(x) = \\theta_0 + \\theta_1 x_1 + \\theta_2 x_1^2$ \n",
    "\n",
    "or the cubic function \n",
    "\n",
    "$h_\\theta(x) = \\theta_0 + \\theta_1 x_1 + \\theta_2 x_1^2 + \\theta_3 x_1^3$"
   ]
  },
  {
   "cell_type": "markdown",
   "id": "4284a671",
   "metadata": {},
   "source": [
    "In the cubic version, we have created new features $x_2$ and $x_3$ where $x_2 = x_1^2$ and $x_3 = x_1^3$."
   ]
  },
  {
   "cell_type": "markdown",
   "id": "79256a7d",
   "metadata": {},
   "source": [
    "To make it a square root function, we could do: \n",
    "\n",
    "$h_\\theta(x) = \\theta_0 + \\theta_1 x_1 + \\theta_2 \\sqrt{x_1}$"
   ]
  },
  {
   "cell_type": "markdown",
   "id": "48dde81a",
   "metadata": {},
   "source": [
    "One important thing to keep in mind is, if you choose your features this way then feature scaling becomes very important.\n",
    "\n",
    "eg. if $x_1$ has range 1 - 1000 then range of $x_1^2$ becomes 1 - 1000000 and that of $x_1^3$ becomes 1 - 1000000000"
   ]
  },
  {
   "cell_type": "code",
   "execution_count": null,
   "id": "46528085",
   "metadata": {},
   "outputs": [],
   "source": []
  }
 ],
 "metadata": {
  "kernelspec": {
   "display_name": "Octave",
   "language": "octave",
   "name": "octave"
  },
  "language_info": {
   "file_extension": ".m",
   "help_links": [
    {
     "text": "GNU Octave",
     "url": "https://www.gnu.org/software/octave/support.html"
    },
    {
     "text": "Octave Kernel",
     "url": "https://github.com/Calysto/octave_kernel"
    },
    {
     "text": "MetaKernel Magics",
     "url": "https://metakernel.readthedocs.io/en/latest/source/README.html"
    }
   ],
   "mimetype": "text/x-octave",
   "name": "octave",
   "version": "6.2.0"
  }
 },
 "nbformat": 4,
 "nbformat_minor": 5
}
