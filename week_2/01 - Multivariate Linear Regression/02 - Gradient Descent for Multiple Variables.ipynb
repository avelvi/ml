{
 "cells": [
  {
   "cell_type": "markdown",
   "id": "391cae63",
   "metadata": {},
   "source": [
    "## Gradient Descent for Multiple Variables"
   ]
  },
  {
   "cell_type": "markdown",
   "id": "2155eeb4",
   "metadata": {},
   "source": [
    "The gradient descent equation itself is generally the same form; we just have to repeat it for our 'n' features:"
   ]
  },
  {
   "cell_type": "markdown",
   "id": "cd660477",
   "metadata": {},
   "source": [
    "repeat until convergence: \n",
    "$\n",
    "\\{\\\\\n",
    "    \\theta_0 := \\theta_0 - \\alpha\\frac{1}{m}\\sum_{i=1}^m(h_\\theta(x^{(i)})−y^{(i)})x_0^{(i)}\\\\\n",
    "    \\theta_1 := \\theta_1 - \\alpha\\frac{1}{m}\\sum_{i=1}^m(h_\\theta(x^{(i)})−y^{(i)})x_1^{(i)}\\\\\n",
    "    \\theta_2 := \\theta_2 - \\alpha\\frac{1}{m}\\sum_{i=1}^m(h_\\theta(x^{(i)})−y^{(i)})x_2^{(i)}\\\\\n",
    "    \\dots\\\\\n",
    "\\}\n",
    "$\n"
   ]
  },
  {
   "cell_type": "markdown",
   "id": "6c50aedb",
   "metadata": {},
   "source": [
    "In other words:"
   ]
  },
  {
   "cell_type": "markdown",
   "id": "a95690d6",
   "metadata": {},
   "source": [
    "repeat until convergence: \n",
    "$\n",
    "\\{\\\\\n",
    "    \\theta_j := \\theta_j - \\alpha\\frac{1}{m}\\sum_{i=1}^m(h_\\theta(x^{(i)})−y^{(i)})x_j^{(i)}\\\\\n",
    "\\}\n",
    "$\n",
    "$\\text{for} j := 0\\dots n$"
   ]
  },
  {
   "cell_type": "markdown",
   "id": "83a41f3d",
   "metadata": {},
   "source": [
    "The following image compares gradient descent with one variable to gradient descent with multiple variables: "
   ]
  },
  {
   "cell_type": "markdown",
   "id": "d0db2528",
   "metadata": {},
   "source": [
    "![gdfmv](src/gdfmv.png)"
   ]
  },
  {
   "cell_type": "code",
   "execution_count": null,
   "id": "c2b575cc",
   "metadata": {},
   "outputs": [],
   "source": []
  }
 ],
 "metadata": {
  "kernelspec": {
   "display_name": "Octave",
   "language": "octave",
   "name": "octave"
  },
  "language_info": {
   "file_extension": ".m",
   "help_links": [
    {
     "text": "GNU Octave",
     "url": "https://www.gnu.org/software/octave/support.html"
    },
    {
     "text": "Octave Kernel",
     "url": "https://github.com/Calysto/octave_kernel"
    },
    {
     "text": "MetaKernel Magics",
     "url": "https://metakernel.readthedocs.io/en/latest/source/README.html"
    }
   ],
   "mimetype": "text/x-octave",
   "name": "octave",
   "version": "6.2.0"
  }
 },
 "nbformat": 4,
 "nbformat_minor": 5
}
