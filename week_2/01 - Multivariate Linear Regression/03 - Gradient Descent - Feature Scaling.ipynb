{
 "cells": [
  {
   "cell_type": "markdown",
   "id": "6b78845c",
   "metadata": {},
   "source": [
    "## Gradient Descent - Feature Scaling"
   ]
  },
  {
   "cell_type": "markdown",
   "id": "0305fd67",
   "metadata": {},
   "source": [
    "We can speed up gradient descent by having each of our input values in roughly the same range. This is because θ will descend quickly on small ranges and slowly on large ranges, and so will oscillate inefficiently down to the optimum when the variables are very uneven.\n",
    "\n",
    "The way to prevent this is to modify the ranges of our input variables so that they are all roughly the same. Ideally:\n",
    "\n",
    "$−1 ≤ x_{(i)} ≤ 1$\n",
    "\n",
    "or\n",
    "\n",
    "$−0.5 ≤ x_{(i)} ≤ 0.5$"
   ]
  },
  {
   "cell_type": "markdown",
   "id": "92c427ac",
   "metadata": {},
   "source": [
    "These aren't exact requirements; we are only trying to speed things up. The goal is to get all input variables into roughly one of these ranges, give or take a few.\n",
    "\n",
    "Two techniques to help with this are <b>feature scaling</b> and <b>mean normalization</b>. Feature scaling involves dividing the input values by the range (i.e. the maximum value minus the minimum value) of the input variable, resulting in a new range of just 1. Mean normalization involves subtracting the average value for an input variable from the values for that input variable resulting in a new average value for the input variable of just zero. To implement both of these techniques, adjust your input values as shown in this formula:\n",
    "\n",
    "$x_i :=  \\dfrac{x_i - \\mu_i}{s_i}$"
   ]
  },
  {
   "cell_type": "markdown",
   "id": "314e30ec",
   "metadata": {},
   "source": [
    "Where $\\mu_i$ is the <b>average</b> of all the values for feature (i) and $s_i$ is the range of values (max - min), or $s_i$ is the standard deviation.\n",
    "\n",
    "Note that dividing by the range, or dividing by the standard deviation, give different results. The quizzes in this course use range - the programming exercises use standard deviation."
   ]
  },
  {
   "cell_type": "markdown",
   "id": "47f4bfb5",
   "metadata": {},
   "source": [
    "For example, if $x_i$ represents housing prices with a range of 100 to 2000 and a mean value of 1000, then, \n",
    "$x_i := \\dfrac{price-1000}{1900}$."
   ]
  },
  {
   "cell_type": "code",
   "execution_count": null,
   "id": "cec0bc08",
   "metadata": {},
   "outputs": [],
   "source": []
  }
 ],
 "metadata": {
  "kernelspec": {
   "display_name": "Octave",
   "language": "octave",
   "name": "octave"
  },
  "language_info": {
   "file_extension": ".m",
   "help_links": [
    {
     "text": "GNU Octave",
     "url": "https://www.gnu.org/software/octave/support.html"
    },
    {
     "text": "Octave Kernel",
     "url": "https://github.com/Calysto/octave_kernel"
    },
    {
     "text": "MetaKernel Magics",
     "url": "https://metakernel.readthedocs.io/en/latest/source/README.html"
    }
   ],
   "mimetype": "text/x-octave",
   "name": "octave",
   "version": "6.2.0"
  }
 },
 "nbformat": 4,
 "nbformat_minor": 5
}
